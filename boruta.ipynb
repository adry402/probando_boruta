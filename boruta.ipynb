{
 "cells": [
  {
   "cell_type": "code",
   "execution_count": 3,
   "source": [
    "import numpy as np\r\n",
    "import pandas as pd\r\n",
    "import matplotlib.pyplot as plt\r\n",
    "\r\n",
    "from sklearn.metrics import roc_auc_score\r\n",
    "from sklearn.model_selection import train_test_split\r\n",
    "\r\n",
    "from lightgbm import *\r\n",
    "from shaphypetune import BoostSearch, BoostBoruta, BoostRFE\r\n",
    "\r\n",
    "import warnings\r\n",
    "warnings.simplefilter('ignore')"
   ],
   "outputs": [],
   "metadata": {}
  },
  {
   "cell_type": "code",
   "execution_count": 5,
   "source": [
    "df = pd.read_csv(\"archivo.csv\", index_col='RowNumber')\r\n",
    "df.drop(['Surname'], axis=1, inplace=True)\r\n",
    "\r\n",
    "print(df.shape)\r\n",
    "df.head()"
   ],
   "outputs": [
    {
     "output_type": "stream",
     "name": "stdout",
     "text": [
      "(10000, 12)\n"
     ]
    },
    {
     "output_type": "execute_result",
     "data": {
      "text/html": [
       "<div>\n",
       "<style scoped>\n",
       "    .dataframe tbody tr th:only-of-type {\n",
       "        vertical-align: middle;\n",
       "    }\n",
       "\n",
       "    .dataframe tbody tr th {\n",
       "        vertical-align: top;\n",
       "    }\n",
       "\n",
       "    .dataframe thead th {\n",
       "        text-align: right;\n",
       "    }\n",
       "</style>\n",
       "<table border=\"1\" class=\"dataframe\">\n",
       "  <thead>\n",
       "    <tr style=\"text-align: right;\">\n",
       "      <th></th>\n",
       "      <th>CustomerId</th>\n",
       "      <th>CreditScore</th>\n",
       "      <th>Geography</th>\n",
       "      <th>Gender</th>\n",
       "      <th>Age</th>\n",
       "      <th>Tenure</th>\n",
       "      <th>Balance</th>\n",
       "      <th>NumOfProducts</th>\n",
       "      <th>HasCrCard</th>\n",
       "      <th>IsActiveMember</th>\n",
       "      <th>EstimatedSalary</th>\n",
       "      <th>Exited</th>\n",
       "    </tr>\n",
       "    <tr>\n",
       "      <th>RowNumber</th>\n",
       "      <th></th>\n",
       "      <th></th>\n",
       "      <th></th>\n",
       "      <th></th>\n",
       "      <th></th>\n",
       "      <th></th>\n",
       "      <th></th>\n",
       "      <th></th>\n",
       "      <th></th>\n",
       "      <th></th>\n",
       "      <th></th>\n",
       "      <th></th>\n",
       "    </tr>\n",
       "  </thead>\n",
       "  <tbody>\n",
       "    <tr>\n",
       "      <th>1</th>\n",
       "      <td>15634602</td>\n",
       "      <td>619</td>\n",
       "      <td>France</td>\n",
       "      <td>Female</td>\n",
       "      <td>42</td>\n",
       "      <td>2</td>\n",
       "      <td>0.00</td>\n",
       "      <td>1</td>\n",
       "      <td>1</td>\n",
       "      <td>1</td>\n",
       "      <td>101348.88</td>\n",
       "      <td>1</td>\n",
       "    </tr>\n",
       "    <tr>\n",
       "      <th>2</th>\n",
       "      <td>15647311</td>\n",
       "      <td>608</td>\n",
       "      <td>Spain</td>\n",
       "      <td>Female</td>\n",
       "      <td>41</td>\n",
       "      <td>1</td>\n",
       "      <td>83807.86</td>\n",
       "      <td>1</td>\n",
       "      <td>0</td>\n",
       "      <td>1</td>\n",
       "      <td>112542.58</td>\n",
       "      <td>0</td>\n",
       "    </tr>\n",
       "    <tr>\n",
       "      <th>3</th>\n",
       "      <td>15619304</td>\n",
       "      <td>502</td>\n",
       "      <td>France</td>\n",
       "      <td>Female</td>\n",
       "      <td>42</td>\n",
       "      <td>8</td>\n",
       "      <td>159660.80</td>\n",
       "      <td>3</td>\n",
       "      <td>1</td>\n",
       "      <td>0</td>\n",
       "      <td>113931.57</td>\n",
       "      <td>1</td>\n",
       "    </tr>\n",
       "    <tr>\n",
       "      <th>4</th>\n",
       "      <td>15701354</td>\n",
       "      <td>699</td>\n",
       "      <td>France</td>\n",
       "      <td>Female</td>\n",
       "      <td>39</td>\n",
       "      <td>1</td>\n",
       "      <td>0.00</td>\n",
       "      <td>2</td>\n",
       "      <td>0</td>\n",
       "      <td>0</td>\n",
       "      <td>93826.63</td>\n",
       "      <td>0</td>\n",
       "    </tr>\n",
       "    <tr>\n",
       "      <th>5</th>\n",
       "      <td>15737888</td>\n",
       "      <td>850</td>\n",
       "      <td>Spain</td>\n",
       "      <td>Female</td>\n",
       "      <td>43</td>\n",
       "      <td>2</td>\n",
       "      <td>125510.82</td>\n",
       "      <td>1</td>\n",
       "      <td>1</td>\n",
       "      <td>1</td>\n",
       "      <td>79084.10</td>\n",
       "      <td>0</td>\n",
       "    </tr>\n",
       "  </tbody>\n",
       "</table>\n",
       "</div>"
      ],
      "text/plain": [
       "           CustomerId  CreditScore Geography  Gender  Age  Tenure    Balance  \\\n",
       "RowNumber                                                                      \n",
       "1            15634602          619    France  Female   42       2       0.00   \n",
       "2            15647311          608     Spain  Female   41       1   83807.86   \n",
       "3            15619304          502    France  Female   42       8  159660.80   \n",
       "4            15701354          699    France  Female   39       1       0.00   \n",
       "5            15737888          850     Spain  Female   43       2  125510.82   \n",
       "\n",
       "           NumOfProducts  HasCrCard  IsActiveMember  EstimatedSalary  Exited  \n",
       "RowNumber                                                                     \n",
       "1                      1          1               1        101348.88       1  \n",
       "2                      1          0               1        112542.58       0  \n",
       "3                      3          1               0        113931.57       1  \n",
       "4                      2          0               0         93826.63       0  \n",
       "5                      1          1               1         79084.10       0  "
      ]
     },
     "metadata": {},
     "execution_count": 5
    }
   ],
   "metadata": {}
  },
  {
   "cell_type": "code",
   "execution_count": 6,
   "source": [
    "cat_cols = list(df.head().select_dtypes(object).columns)\r\n",
    "df[cat_cols] = df[cat_cols].astype(\"category\")"
   ],
   "outputs": [],
   "metadata": {}
  },
  {
   "cell_type": "code",
   "execution_count": 7,
   "source": [
    "### ADD RANDOM ARTIFICIAL FEATURES ###\r\n",
    "\r\n",
    "np.random.seed(123)\r\n",
    "\r\n",
    "for c in range(1,6):\r\n",
    "    df[f\"RANDOM_{c}\"] = np.random.normal(0,5, (df.shape[0],1))"
   ],
   "outputs": [],
   "metadata": {}
  },
  {
   "cell_type": "code",
   "execution_count": 8,
   "source": [
    "### DEFINE TUNING VARIABLES ###\r\n",
    "\r\n",
    "param_grid = {\r\n",
    "    'n_estimators': 200,\r\n",
    "    'learning_rate': [0.3, 0.2, 0.1],\r\n",
    "    'num_leaves': [20, 25, 30]\r\n",
    "}\r\n",
    "\r\n",
    "\r\n",
    "def AUC(y_true, y_hat):\r\n",
    "    return 'auc', roc_auc_score(y_true, y_hat), True\r\n",
    "\r\n",
    "lgbm = LGBMClassifier(random_state=0, n_jobs=-1)\r\n",
    "\r\n",
    "n_trials = 10"
   ],
   "outputs": [],
   "metadata": {}
  },
  {
   "cell_type": "code",
   "execution_count": 9,
   "source": [
    "### TUNE PARAMETERS AND EXTRACT IMPORTANCES ###\r\n",
    "\r\n",
    "importances = np.zeros((df.shape[1]-1,))\r\n",
    "\r\n",
    "for i in range(n_trials):\r\n",
    "    \r\n",
    "    print(\"----- TRIAL {} -----\".format(i+1))\r\n",
    "\r\n",
    "    X_train, X_test, y_train, y_test = train_test_split(\r\n",
    "        df.drop(['Exited'], axis=1), df['Exited'], test_size=0.5, shuffle=True, random_state=i)\r\n",
    "\r\n",
    "    X_train, X_valid, y_train, y_valid = train_test_split(\r\n",
    "        X_train, y_train, test_size=0.2, shuffle=True, random_state=i)\r\n",
    "\r\n",
    "    model = BoostSearch(lgbm, param_grid=param_grid, greater_is_better=True, verbose=0)\r\n",
    "    model.fit(X_train, y_train, eval_set=[(X_valid, y_valid)], eval_metric=AUC, early_stopping_rounds=4, verbose=0)\r\n",
    "    \r\n",
    "    importances += model.estimator_.feature_importances_\r\n",
    "    \r\n",
    "importances /= n_trials"
   ],
   "outputs": [
    {
     "output_type": "stream",
     "name": "stdout",
     "text": [
      "----- TRIAL 1 -----\n",
      "----- TRIAL 2 -----\n",
      "----- TRIAL 3 -----\n",
      "----- TRIAL 4 -----\n",
      "----- TRIAL 5 -----\n",
      "----- TRIAL 6 -----\n",
      "----- TRIAL 7 -----\n",
      "----- TRIAL 8 -----\n",
      "----- TRIAL 9 -----\n",
      "----- TRIAL 10 -----\n"
     ]
    }
   ],
   "metadata": {}
  },
  {
   "cell_type": "code",
   "execution_count": 10,
   "source": [
    "### PLOT IMPORTANCES ###\r\n",
    "\r\n",
    "imp_id = np.argsort(importances)\r\n",
    "\r\n",
    "plt.figure(figsize=(8,6))\r\n",
    "plt.barh(range(len(importances)), importances[imp_id], \r\n",
    "         color=['red' if 'RANDOM' in c else 'blue' for c in X_train.columns[imp_id]])\r\n",
    "plt.yticks(range(len(importances)), X_train.columns[imp_id])\r\n",
    "plt.xlabel('importance')\r\n",
    "plt.show()"
   ],
   "outputs": [
    {
     "output_type": "display_data",
     "data": {
      "image/png": "[encoded data removed]",
      "text/plain": [
       "<Figure size 576x432 with 1 Axes>"
      ]
     },
     "metadata": {
      "needs_background": "light"
     }
    }
   ],
   "metadata": {}
  },
  {
   "cell_type": "code",
   "execution_count": 11,
   "source": [
    "### TUNE PARAMETERS PLUS RFE AND EXTRACT SUPPORTS ###\r\n",
    "\r\n",
    "supports = np.zeros((df.shape[1]-1,))\r\n",
    "\r\n",
    "for i in range(n_trials):\r\n",
    "    \r\n",
    "    print(\"----- TRIAL {} -----\".format(i+1))\r\n",
    "\r\n",
    "    X_train, X_valid, y_train, y_valid = train_test_split(\r\n",
    "        df.drop(['Exited'], axis=1), df['Exited'], test_size=0.5, shuffle=True, random_state=i)\r\n",
    "\r\n",
    "    model = BoostRFE(lgbm, min_features_to_select=1, step=1, param_grid=param_grid, greater_is_better=True, verbose=0)\r\n",
    "    model.fit(X_train, y_train, eval_set=[(X_valid, y_valid)], eval_metric=AUC, early_stopping_rounds=5, verbose=0)\r\n",
    "\r\n",
    "    supports += model.support_.astype(int)"
   ],
   "outputs": [
    {
     "output_type": "stream",
     "name": "stdout",
     "text": [
      "----- TRIAL 1 -----\n",
      "----- TRIAL 2 -----\n",
      "----- TRIAL 3 -----\n",
      "----- TRIAL 4 -----\n",
      "----- TRIAL 5 -----\n",
      "----- TRIAL 6 -----\n",
      "----- TRIAL 7 -----\n",
      "----- TRIAL 8 -----\n",
      "----- TRIAL 9 -----\n",
      "----- TRIAL 10 -----\n"
     ]
    }
   ],
   "metadata": {}
  },
  {
   "cell_type": "code",
   "execution_count": 12,
   "source": [
    "\r\n",
    "### PLOT VARIABLE SUPPORTS OVER TRIALS ###\r\n",
    "\r\n",
    "plt.figure(figsize=(8,6))\r\n",
    "plt.barh(range(len(supports)), supports, \r\n",
    "         color=['red' if 'RANDOM' in c else 'blue' for c in X_train])\r\n",
    "plt.yticks(range(len(supports)), X_train.columns); plt.xlabel('trials')\r\n",
    "plt.title('how many times a feature is selected')\r\n",
    "plt.show()"
   ],
   "outputs": [
    {
     "output_type": "display_data",
     "data": {
      "image/png": "[encoded data removed]",
      "text/plain": [
       "<Figure size 576x432 with 1 Axes>"
      ]
     },
     "metadata": {
      "needs_background": "light"
     }
    }
   ],
   "metadata": {}
  },
  {
   "cell_type": "code",
   "execution_count": 13,
   "source": [
    "### TUNE PARAMETERS PLUS BORUTA AND EXTRACT SUPPORTS ###\r\n",
    "\r\n",
    "supports = np.zeros((df.shape[1]-1,))\r\n",
    "\r\n",
    "for i in range(n_trials):\r\n",
    "    \r\n",
    "    print(\"----- TRIAL {} -----\".format(i+1))\r\n",
    "\r\n",
    "    X_train, X_valid, y_train, y_valid = train_test_split(\r\n",
    "        df.drop(['Exited'], axis=1), df['Exited'], test_size=0.5, shuffle=True, random_state=i)\r\n",
    "\r\n",
    "    model = BoostBoruta(lgbm, perc=100, alpha=0.05, max_iter=100, param_grid=param_grid, greater_is_better=True, verbose=0)\r\n",
    "    model.fit(X_train, y_train, eval_set=[(X_valid, y_valid)], eval_metric=AUC, early_stopping_rounds=5, verbose=0)\r\n",
    "\r\n",
    "    supports += model.support_.astype(int)"
   ],
   "outputs": [
    {
     "output_type": "stream",
     "name": "stdout",
     "text": [
      "----- TRIAL 1 -----\n",
      "----- TRIAL 2 -----\n",
      "----- TRIAL 3 -----\n",
      "----- TRIAL 4 -----\n",
      "----- TRIAL 5 -----\n",
      "----- TRIAL 6 -----\n",
      "----- TRIAL 7 -----\n",
      "----- TRIAL 8 -----\n",
      "----- TRIAL 9 -----\n",
      "----- TRIAL 10 -----\n"
     ]
    }
   ],
   "metadata": {}
  },
  {
   "cell_type": "code",
   "execution_count": 14,
   "source": [
    "\r\n",
    "### PLOT VARIABLE SUPPORTS OVER TRIALS ###\r\n",
    "\r\n",
    "plt.figure(figsize=(8,6))\r\n",
    "plt.barh(range(len(supports)), supports, \r\n",
    "         color=['red' if 'RANDOM' in c else 'blue' for c in X_train])\r\n",
    "plt.yticks(range(len(supports)), X_train.columns); plt.xlabel('trials')\r\n",
    "plt.title('how many times a feature is selected')\r\n",
    "plt.show()"
   ],
   "outputs": [
    {
     "output_type": "display_data",
     "data": {
      "image/png": "[encoded data removed]",
      "text/plain": [
       "<Figure size 576x432 with 1 Axes>"
      ]
     },
     "metadata": {
      "needs_background": "light"
     }
    }
   ],
   "metadata": {}
  },
  {
   "cell_type": "code",
   "execution_count": 15,
   "source": [
    "### TUNE PARAMETERS PLUS RFE WITH SHAP AND EXTRACT SUPPORTS ###\r\n",
    "\r\n",
    "supports = np.zeros((df.shape[1]-1,))\r\n",
    "\r\n",
    "for i in range(n_trials):\r\n",
    "    \r\n",
    "    print(\"----- TRIAL {} -----\".format(i+1))\r\n",
    "\r\n",
    "    X_train, X_valid, y_train, y_valid = train_test_split(\r\n",
    "        df.drop(['Exited'], axis=1), df['Exited'], test_size=0.5, shuffle=True, random_state=i)\r\n",
    "\r\n",
    "    model = BoostRFE(lgbm, min_features_to_select=1, step=1, param_grid=param_grid, greater_is_better=True,\r\n",
    "                     importance_type='shap_importances', train_importance=False, verbose=0)\r\n",
    "    model.fit(X_train, y_train, eval_set=[(X_valid, y_valid)], eval_metric=AUC, early_stopping_rounds=5, verbose=0)\r\n",
    "\r\n",
    "    supports += model.support_.astype(int)"
   ],
   "outputs": [
    {
     "output_type": "stream",
     "name": "stdout",
     "text": [
      "----- TRIAL 1 -----\n",
      "----- TRIAL 2 -----\n",
      "----- TRIAL 3 -----\n",
      "----- TRIAL 4 -----\n",
      "----- TRIAL 5 -----\n",
      "----- TRIAL 6 -----\n",
      "----- TRIAL 7 -----\n",
      "----- TRIAL 8 -----\n",
      "----- TRIAL 9 -----\n",
      "----- TRIAL 10 -----\n"
     ]
    }
   ],
   "metadata": {}
  },
  {
   "cell_type": "code",
   "execution_count": 16,
   "source": [
    "### PLOT VARIABLE SUPPORTS OVER TRIALS ###\r\n",
    "\r\n",
    "plt.figure(figsize=(8,6))\r\n",
    "plt.barh(range(len(supports)), supports, \r\n",
    "         color=['red' if 'RANDOM' in c else 'blue' for c in X_train])\r\n",
    "plt.yticks(range(len(supports)), X_train.columns); plt.xlabel('trials')\r\n",
    "plt.title('how many times a feature is selected')\r\n",
    "plt.show()"
   ],
   "outputs": [
    {
     "output_type": "display_data",
     "data": {
      "image/png": "[encoded data removed]",
      "text/plain": [
       "<Figure size 576x432 with 1 Axes>"
      ]
     },
     "metadata": {
      "needs_background": "light"
     }
    }
   ],
   "metadata": {}
  },
  {
   "cell_type": "code",
   "execution_count": 17,
   "source": [
    "### TUNE PARAMETERS PLUS BORUTA WITH SHAP AND EXTRACT SUPPORTS ###\r\n",
    "\r\n",
    "supports = np.zeros((df.shape[1]-1,))\r\n",
    "\r\n",
    "for i in range(n_trials):\r\n",
    "    \r\n",
    "    print(\"----- TRIAL {} -----\".format(i+1))\r\n",
    "\r\n",
    "    X_train, X_valid, y_train, y_valid = train_test_split(\r\n",
    "        df.drop(['Exited'], axis=1), df['Exited'], test_size=0.5, shuffle=True, random_state=i)\r\n",
    "\r\n",
    "    model = BoostBoruta(lgbm, perc=100, alpha=0.05, max_iter=100, param_grid=param_grid, greater_is_better=True,\r\n",
    "                        importance_type='shap_importances', train_importance=False, verbose=0)\r\n",
    "    model.fit(X_train, y_train, eval_set=[(X_valid, y_valid)], eval_metric=AUC, early_stopping_rounds=5, verbose=0)\r\n",
    "\r\n",
    "    supports += model.support_.astype(int)"
   ],
   "outputs": [
    {
     "output_type": "stream",
     "name": "stdout",
     "text": [
      "----- TRIAL 1 -----\n",
      "----- TRIAL 2 -----\n",
      "----- TRIAL 3 -----\n",
      "----- TRIAL 4 -----\n",
      "----- TRIAL 5 -----\n",
      "----- TRIAL 6 -----\n",
      "----- TRIAL 7 -----\n",
      "----- TRIAL 8 -----\n",
      "----- TRIAL 9 -----\n",
      "----- TRIAL 10 -----\n"
     ]
    }
   ],
   "metadata": {}
  },
  {
   "cell_type": "code",
   "execution_count": 18,
   "source": [
    "\r\n",
    "### PLOT VARIABLE SUPPORTS OVER TRIALS ###\r\n",
    "\r\n",
    "plt.figure(figsize=(8,6))\r\n",
    "plt.barh(range(len(supports)), supports, \r\n",
    "         color=['red' if 'RANDOM' in c else 'blue' for c in X_train])\r\n",
    "plt.yticks(range(len(supports)), X_train.columns); plt.xlabel('trials')\r\n",
    "plt.title('how many times a feature is selected')\r\n",
    "plt.show()"
   ],
   "outputs": [
    {
     "output_type": "display_data",
     "data": {
      "image/png": "[encoded data removed]",
      "text/plain": [
       "<Figure size 576x432 with 1 Axes>"
      ]
     },
     "metadata": {
      "needs_background": "light"
     }
    }
   ],
   "metadata": {}
  }
 ],
 "metadata": {
  "orig_nbformat": 4,
  "language_info": {
   "name": "python",
   "version": "3.8.5",
   "mimetype": "text/x-python",
   "codemirror_mode": {
    "name": "ipython",
    "version": 3
   },
   "pygments_lexer": "ipython3",
   "nbconvert_exporter": "python",
   "file_extension": ".py"
  },
  "kernelspec": {
   "name": "python3",
   "display_name": "Python 3.8.5 64-bit ('bfore2020': conda)"
  },
  "interpreter": {
   "hash": "50662f1bd5e0ca383e5af4e21ea00b6e9cc0159e65bc906ee3adc5d35ca5b876"
  }
 },
 "nbformat": 4,
 "nbformat_minor": 2
}